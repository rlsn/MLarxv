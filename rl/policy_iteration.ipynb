{
 "cells": [
  {
   "cell_type": "markdown",
   "metadata": {},
   "source": [
    "# Jack's Car Rental"
   ]
  },
  {
   "cell_type": "code",
   "execution_count": 1,
   "metadata": {},
   "outputs": [],
   "source": [
    "import numpy as np\n",
    "from scipy.stats import poisson\n",
    "from tqdm import tqdm_notebook"
   ]
  },
  {
   "cell_type": "code",
   "execution_count": 2,
   "metadata": {},
   "outputs": [],
   "source": [
    "max_capacity = 20\n",
    "rent_1_lambda = 3\n",
    "rent_2_lambda = 4\n",
    "return_1_lambda = 3\n",
    "return_2_lambda = 2\n",
    "\n",
    "max_move = 5\n",
    "move_cost = -2\n",
    "rent_credit = 10\n",
    "discount = 0.9\n",
    "\n",
    "def possible_rewards(s,a):\n",
    "    for i in range(s[0]+s[1]+1):\n",
    "        yield i*rent_credit+a*move_cost\n",
    "\n",
    "def possible_states():\n",
    "    for i in range(max_capacity+1):\n",
    "        for j in range(max_capacity+1):\n",
    "            yield [i,j]  \n",
    "\n",
    "def possible_actions(s):\n",
    "    for a in range(-min(max_move, s[1]), min(max_move, s[0])+1):\n",
    "        yield a\n",
    "           "
   ]
  },
  {
   "cell_type": "code",
   "execution_count": 3,
   "metadata": {},
   "outputs": [
    {
     "data": {
      "text/plain": [
       "0.02466760846032992"
      ]
     },
     "execution_count": 3,
     "metadata": {},
     "output_type": "execute_result"
    }
   ],
   "source": [
    "# environment dynamic function\n",
    "def p(s_new,r,s,a)->float:\n",
    "    # read no. cars from state\n",
    "    car1 = s[0]\n",
    "    car2 = s[1]\n",
    "    \n",
    "    # move cars overnight\n",
    "    car1 -= a\n",
    "    car2 += a\n",
    "    cost = abs(a)*move_cost\n",
    "    num_rent = int((r-cost)/rent_credit)\n",
    "\n",
    "    # rent\n",
    "    rent_1 = poisson.pmf(np.arange(car1+1), rent_1_lambda)\n",
    "    rent_1[-1] += 1-rent_1.sum()\n",
    "    rent_2 = poisson.pmf(np.arange(car2+1), rent_2_lambda)\n",
    "    rent_2[-1] += 1-rent_2.sum()    \n",
    "    \n",
    "    # joint rent\n",
    "    joint_rent = np.outer(rent_1,rent_2)\n",
    "\n",
    "    \n",
    "    # initialize probability\n",
    "    prob = 0.0\n",
    "    \n",
    "    # interate the joint probs\n",
    "    for rnt1 in range(car1+1):\n",
    "        rnt2 = num_rent-rnt1\n",
    "        \n",
    "        if not (rnt2 >= 0 and rnt2 <= car2): continue\n",
    "        # substract rent cars\n",
    "        c1 = car1 - rnt1\n",
    "        c2 = car2 - rnt2\n",
    "        # return\n",
    "        retn1 = s_new[0]-c1\n",
    "        retn2 = s_new[1]-c2\n",
    "        if not (retn1 >= 0 and retn2 >= 0): continue\n",
    "            \n",
    "        return_1 = poisson.pmf(retn1, return_1_lambda) if s_new[0]!=max_capacity else 1-poisson.cdf(retn1-1, return_1_lambda)\n",
    "        return_2 = poisson.pmf(retn2, return_2_lambda) if s_new[1]!=max_capacity else 1-poisson.cdf(retn2-1, return_2_lambda)\n",
    "\n",
    "        \n",
    "        # joint return\n",
    "        joint_return = return_1*return_2\n",
    "        \n",
    "        prob += joint_rent[rnt1,rnt2]*joint_return\n",
    "                \n",
    "    return prob\n",
    "\n",
    "\n",
    "s_new=[1,1]\n",
    "r = 48\n",
    "s = [3,2]\n",
    "a = 1\n",
    "\n",
    "p(s_new,r,s,a)"
   ]
  },
  {
   "cell_type": "code",
   "execution_count": 4,
   "metadata": {},
   "outputs": [
    {
     "data": {
      "text/plain": [
       "0.9999999999999969"
      ]
     },
     "execution_count": 4,
     "metadata": {},
     "output_type": "execute_result"
    }
   ],
   "source": [
    "# The probability returned by function p conditioned on (s,a) is guaranteed to sum up to 1\n",
    "# run the test below\n",
    "\n",
    "# change settings here\n",
    "s = [3,2]\n",
    "a = 0\n",
    "##########################\n",
    "total=0.0\n",
    "for i in range(max_capacity+1):\n",
    "    for j in range(max_capacity+1):\n",
    "        for r in possible_rewards(s,a):\n",
    "            try:\n",
    "                total+=p([i,j],r,s,a)\n",
    "            except:\n",
    "                print(i,j,r)\n",
    "total"
   ]
  },
  {
   "cell_type": "code",
   "execution_count": 84,
   "metadata": {},
   "outputs": [],
   "source": [
    "def bellman(s,a):\n",
    "    V_update = 0.0\n",
    "    for s_new in possible_states():\n",
    "        for r in possible_rewards(s,a):\n",
    "            V_update += p(s_new,r,s,a)*(r+discount*V[s_new[0],s_new[1]])\n",
    "    return V_update\n",
    "\n",
    "def evaluation(V, pi, theta = 5, max_iteration = 2):\n",
    "    it = 0\n",
    "    while it<max_iteration:\n",
    "        it+=1\n",
    "        delta = 0.0\n",
    "\n",
    "        for s in tqdm_notebook(possible_states(),\"eval it %d\"%it,total=(max_capacity+1)**2):\n",
    "            a = pi[s[0],s[1]]\n",
    "            V_update = bellman(s,a)\n",
    "            delta = max(delta, abs(V_update-V[s[0],s[1]]))\n",
    "            V[s[0],s[1]] = V_update\n",
    "\n",
    "        if delta < theta:\n",
    "            break\n",
    "\n",
    "def improvement(V, pi):\n",
    "    policy_stable = True\n",
    "    for s in tqdm_notebook(possible_states(),\"imp \",total=(max_capacity+1)**2):\n",
    "        best_v = -10e5\n",
    "        new_action = pi[s[0],s[1]]\n",
    "        for a in possible_actions(s):\n",
    "            v = bellman(s,a)\n",
    "            if v > best_v:\n",
    "                best_v = v\n",
    "                new_action = a\n",
    "                    \n",
    "        if new_action!=pi[s[0],s[1]]:\n",
    "            policy_stable = False\n",
    "        pi[s[0],s[1]] = new_action\n",
    "    \n",
    "    return policy_stable"
   ]
  },
  {
   "cell_type": "code",
   "execution_count": null,
   "metadata": {
    "scrolled": true
   },
   "outputs": [
    {
     "data": {
      "application/vnd.jupyter.widget-view+json": {
       "model_id": "1cb1034629fe4b2bb04eb5ef8b61de0f",
       "version_major": 2,
       "version_minor": 0
      },
      "text/plain": [
       "HBox(children=(IntProgress(value=0, description='eval it 1', max=441, style=ProgressStyle(description_width='i…"
      ]
     },
     "metadata": {},
     "output_type": "display_data"
    },
    {
     "data": {
      "application/vnd.jupyter.widget-view+json": {
       "model_id": "7b1d8cc7250d4bed955c6f7253cde722",
       "version_major": 2,
       "version_minor": 0
      },
      "text/plain": [
       "HBox(children=(IntProgress(value=0, description='eval it 2', max=441, style=ProgressStyle(description_width='i…"
      ]
     },
     "metadata": {},
     "output_type": "display_data"
    },
    {
     "data": {
      "application/vnd.jupyter.widget-view+json": {
       "model_id": "37e848f3bf7f4dd5b77ed592ae93c443",
       "version_major": 2,
       "version_minor": 0
      },
      "text/plain": [
       "HBox(children=(IntProgress(value=0, description='imp ', max=441, style=ProgressStyle(description_width='initia…"
      ]
     },
     "metadata": {},
     "output_type": "display_data"
    }
   ],
   "source": [
    "V = np.zeros([max_capacity+1]*2)\n",
    "pi = np.zeros([max_capacity+1]*2, int)\n",
    "\n",
    "max_iteration = 3\n",
    "it = 0\n",
    "policy_stable = False\n",
    "while it<max_iteration or not policy_stable:\n",
    "    it+=1\n",
    "    evaluation(V, pi)\n",
    "    improvement(V, pi)\n"
   ]
  },
  {
   "cell_type": "code",
   "execution_count": 71,
   "metadata": {},
   "outputs": [
    {
     "data": {
      "text/plain": [
       "array([[  0.        ,  18.65200286,  35.91201717,  50.38805436,\n",
       "         61.15212207,  68.20422031,  72.28674295,  74.38954854,\n",
       "         75.36108724,  75.7669925 ,  75.92150511,  75.97546067,\n",
       "         75.99285002,  75.99805064,  75.99950088,  75.99987958,\n",
       "         75.99997254,  75.99999407,  75.99999878,  75.99999976,\n",
       "         75.99999996],\n",
       "       [ 18.0540457 ,  36.70604856,  53.96606287,  68.44210006,\n",
       "         79.20616778,  86.25826601,  90.34078865,  92.44359424,\n",
       "         93.41513294,  93.8210382 ,  93.97555081,  94.02950637,\n",
       "         94.04689572,  94.05209634,  94.05354658,  94.05392528,\n",
       "         94.05401824,  94.05403977,  94.05404448,  94.05404546,\n",
       "         94.05404566],\n",
       "       [ 33.27022851,  51.92223137,  69.18224567,  83.65828287,\n",
       "         94.42235058, 101.47444881, 105.55697146, 107.65977705,\n",
       "        108.63131575, 109.037221  , 109.19173362, 109.24568917,\n",
       "        109.26307853, 109.26827915, 109.26972938, 109.27010809,\n",
       "        109.27020105, 109.27022257, 109.27022729, 109.27022827,\n",
       "        109.27022846],\n",
       "       [ 44.22961696,  62.88161982,  80.14163413,  94.61767132,\n",
       "        105.38173904, 112.43383727, 116.51635992, 118.61916551,\n",
       "        119.59070421, 119.99660946, 120.15112207, 120.20507763,\n",
       "        120.22246698, 120.2276676 , 120.22911784, 120.22949655,\n",
       "        120.22958951, 120.22961103, 120.22961575, 120.22961673,\n",
       "        120.22961692],\n",
       "       [ 50.93221108,  69.58421394,  86.84422824, 101.32026544,\n",
       "        112.08433315, 119.13643138, 123.21895403, 125.32175962,\n",
       "        126.29329832, 126.69920357, 126.85371619, 126.90767174,\n",
       "        126.9250611 , 126.93026172, 126.93171196, 126.93209066,\n",
       "        126.93218362, 126.93220514, 126.93220986, 126.93221084,\n",
       "        126.93221103],\n",
       "       [ 54.44220943,  73.09421229,  90.3542266 , 104.83026379,\n",
       "        115.59433151, 122.64642974, 126.72895238, 128.83175797,\n",
       "        129.80329667, 130.20920193, 130.36371454, 130.4176701 ,\n",
       "        130.43505945, 130.44026007, 130.44171031, 130.44208901,\n",
       "        130.44218197, 130.4422035 , 130.44220821, 130.44220919,\n",
       "        130.44220939],\n",
       "       [ 56.03665033,  74.68865319,  91.9486675 , 106.42470469,\n",
       "        117.1887724 , 124.24087064, 128.32339328, 130.42619887,\n",
       "        131.39773757, 131.80364283, 131.95815544, 132.012111  ,\n",
       "        132.02950035, 132.03470097, 132.03615121, 132.03652991,\n",
       "        132.03662287, 132.0366444 , 132.03664911, 132.03665009,\n",
       "        132.03665028],\n",
       "       [ 56.6733125 ,  75.32531536,  92.58532967, 107.06136686,\n",
       "        117.82543457, 124.87753281, 128.96005545, 131.06286104,\n",
       "        132.03439974, 132.440305  , 132.59481761, 132.64877317,\n",
       "        132.66616252, 132.67136314, 132.67281338, 132.67319208,\n",
       "        132.67328504, 132.67330657, 132.67331128, 132.67331226,\n",
       "        132.67331246],\n",
       "       [ 56.89949807,  75.55150093,  92.81151524, 107.28755243,\n",
       "        118.05162015, 125.10371838, 129.18624103, 131.28904662,\n",
       "        132.26058532, 132.66649057, 132.82100318, 132.87495874,\n",
       "        132.89234809, 132.89754871, 132.89899895, 132.89937766,\n",
       "        132.89947062, 132.89949214, 132.89949686, 132.89949784,\n",
       "        132.89949803],\n",
       "       [ 56.97175492,  75.62375778,  92.88377209, 107.35980928,\n",
       "        118.123877  , 125.17597523, 129.25849787, 131.36130346,\n",
       "        132.33284216, 132.73874742, 132.89326003, 132.94721559,\n",
       "        132.96460494, 132.96980556, 132.9712558 , 132.97163451,\n",
       "        132.97172747, 132.97174899, 132.9717537 , 132.97175468,\n",
       "        132.97175488],\n",
       "       [ 56.9927022 ,  75.64470506,  92.90471936, 107.38075656,\n",
       "        118.14482427, 125.1969225 , 129.27944515, 131.38225074,\n",
       "        132.35378944, 132.75969469, 132.91420731, 132.96816286,\n",
       "        132.98555222, 132.99075284, 132.99220308, 132.99258178,\n",
       "        132.99267474, 132.99269626, 132.99270098, 132.99270196,\n",
       "        132.99270215],\n",
       "       [ 56.9982566 ,  75.65025946,  92.91027377, 107.38631096,\n",
       "        118.15037867, 125.20247691, 129.28499955, 131.38780514,\n",
       "        132.35934384, 132.7652491 , 132.91976171, 132.97371727,\n",
       "        132.99110662, 132.99630724, 132.99775748, 132.99813618,\n",
       "        132.99822914, 132.99825067, 132.99825538, 132.99825636,\n",
       "        132.99825655],\n",
       "       [ 56.99961295,  75.65161581,  92.91163011, 107.38766731,\n",
       "        118.15173502, 125.20383325, 129.2863559 , 131.38916149,\n",
       "        132.36070019, 132.76660544, 132.92111806, 132.97507361,\n",
       "        132.99246297, 132.99766359, 132.99911383, 132.99949253,\n",
       "        132.99958549, 132.99960701, 132.99961173, 132.99961271,\n",
       "        132.9996129 ],\n",
       "       [ 56.99991978,  75.65192264,  92.91193694, 107.38797414,\n",
       "        118.15204185, 125.20414008, 129.28666273, 131.38946832,\n",
       "        132.36100702, 132.76691227, 132.92142489, 132.97538044,\n",
       "        132.9927698 , 132.99797042, 132.99942066, 132.99979936,\n",
       "        132.99989232, 132.99991384, 132.99991856, 132.99991954,\n",
       "        132.99991973],\n",
       "       [ 56.99998441,  75.65198727,  92.91200158, 107.38803877,\n",
       "        118.15210649, 125.20420472, 129.28672737, 131.38953296,\n",
       "        132.36107166, 132.76697691, 132.92148952, 132.97544508,\n",
       "        132.99283443, 132.99803505, 132.99948529, 132.999864  ,\n",
       "        132.99995696, 132.99997848, 132.9999832 , 132.99998418,\n",
       "        132.99998437],\n",
       "       [ 56.99999715,  75.65200001,  92.91201432, 107.38805151,\n",
       "        118.15211923, 125.20421746, 129.2867401 , 131.38954569,\n",
       "        132.36108439, 132.76698965, 132.92150226, 132.97545782,\n",
       "        132.99284717, 132.99804779, 132.99949803, 132.99987673,\n",
       "        132.99996969, 132.99999122, 132.99999593, 132.99999691,\n",
       "        132.99999711],\n",
       "       [ 56.99999951,  75.65200237,  92.91201668, 107.38805387,\n",
       "        118.15212158, 125.20421981, 129.28674246, 131.38954805,\n",
       "        132.36108675, 132.76699201, 132.92150462, 132.97546017,\n",
       "        132.99284953, 132.99805015, 132.99950039, 132.99987909,\n",
       "        132.99997205, 132.99999357, 132.99999829, 132.99999927,\n",
       "        132.99999946],\n",
       "       [ 56.99999992,  75.65200278,  92.91201709, 107.38805428,\n",
       "        118.15212199, 125.20422023, 129.28674287, 131.38954846,\n",
       "        132.36108716, 132.76699242, 132.92150503, 132.97546059,\n",
       "        132.99284994, 132.99805056, 132.9995008 , 132.9998795 ,\n",
       "        132.99997246, 132.99999399, 132.9999987 , 132.99999968,\n",
       "        132.99999988],\n",
       "       [ 56.99999999,  75.65200285,  92.91201715, 107.38805435,\n",
       "        118.15212206, 125.20422029, 129.28674294, 131.38954853,\n",
       "        132.36108723, 132.76699248, 132.9215051 , 132.97546065,\n",
       "        132.99285001, 132.99805063, 132.99950087, 132.99987957,\n",
       "        132.99997253, 132.99999405, 132.99999877, 132.99999975,\n",
       "        132.99999994],\n",
       "       [ 57.        ,  75.65200286,  92.91201716, 107.38805436,\n",
       "        118.15212207, 125.2042203 , 129.28674295, 131.38954854,\n",
       "        132.36108724, 132.7669925 , 132.92150511, 132.97546066,\n",
       "        132.99285002, 132.99805064, 132.99950088, 132.99987958,\n",
       "        132.99997254, 132.99999406, 132.99999878, 132.99999976,\n",
       "        132.99999995],\n",
       "       [ 57.        ,  75.65200286,  92.91201717, 107.38805436,\n",
       "        118.15212207, 125.20422031, 129.28674295, 131.38954854,\n",
       "        132.36108724, 132.7669925 , 132.92150511, 132.97546067,\n",
       "        132.99285002, 132.99805064, 132.99950088, 132.99987958,\n",
       "        132.99997254, 132.99999407, 132.99999878, 132.99999976,\n",
       "        132.99999996]])"
      ]
     },
     "execution_count": 71,
     "metadata": {},
     "output_type": "execute_result"
    }
   ],
   "source": [
    "V"
   ]
  },
  {
   "cell_type": "code",
   "execution_count": null,
   "metadata": {},
   "outputs": [],
   "source": []
  }
 ],
 "metadata": {
  "kernelspec": {
   "display_name": "Python 3 (ipykernel)",
   "language": "python",
   "name": "python3"
  },
  "language_info": {
   "codemirror_mode": {
    "name": "ipython",
    "version": 3
   },
   "file_extension": ".py",
   "mimetype": "text/x-python",
   "name": "python",
   "nbconvert_exporter": "python",
   "pygments_lexer": "ipython3",
   "version": "3.9.0"
  }
 },
 "nbformat": 4,
 "nbformat_minor": 2
}
