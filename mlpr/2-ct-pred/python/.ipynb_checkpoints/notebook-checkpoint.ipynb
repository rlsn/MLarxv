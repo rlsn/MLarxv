{
 "cells": [
  {
   "cell_type": "code",
   "execution_count": 145,
   "metadata": {},
   "outputs": [],
   "source": [
    "from ct_support_code import *\n",
    "from scipy.io import loadmat\n",
    "import matplotlib.pyplot as plt\n",
    "%matplotlib inline\n",
    "\n",
    "data = loadmat(\"../data/ct_data.mat\", squeeze_me=True)\n",
    "X_test_raw = data[\"X_test\"]\n",
    "X_train_raw = data[\"X_train\"]\n",
    "X_val_raw = data[\"X_val\"]\n",
    "y_test = data[\"y_test\"]\n",
    "y_train = data[\"y_train\"]\n",
    "y_val = data[\"y_val\"]"
   ]
  },
  {
   "cell_type": "markdown",
   "metadata": {},
   "source": [
    "# 1. Getting started\n",
    "\n",
    "## a."
   ]
  },
  {
   "cell_type": "code",
   "execution_count": 2,
   "metadata": {},
   "outputs": [
    {
     "name": "stdout",
     "output_type": "stream",
     "text": [
      "-9.13868774539957e-15\n",
      "-0.2160085093241599\n",
      "0.012903383410668334\n",
      "-0.44247687859693674\n",
      "0.01192627246273395\n"
     ]
    }
   ],
   "source": [
    "mean_y_train_all = np.mean(y_train)\n",
    "N = y_val.shape[0]\n",
    "mean_y_val = np.mean(y_val)\n",
    "mean_std_y_val = np.std(y_val)/np.sqrt(N)\n",
    "mean_y_train = np.mean(y_train[:N])\n",
    "mean_std_y_train = np.std(y_train[:N])/np.sqrt(N)\n",
    "\n",
    "print(mean_y_train_all)\n",
    "print(mean_y_val)\n",
    "print(mean_std_y_val)\n",
    "print(mean_y_train)\n",
    "print(mean_std_y_train)"
   ]
  },
  {
   "cell_type": "markdown",
   "metadata": {},
   "source": [
    "the locations are not independently and identically distributed. The y_train is not iid, the mean over all data is 0, and it lies far outside of the 2 std of the mean over the first 5785 points."
   ]
  },
  {
   "cell_type": "markdown",
   "metadata": {},
   "source": [
    "## b."
   ]
  },
  {
   "cell_type": "code",
   "execution_count": 163,
   "metadata": {
    "scrolled": true
   },
   "outputs": [
    {
     "name": "stdout",
     "output_type": "stream",
     "text": [
      "[ 59  69 179 189 351]\n",
      "[ 76  77 185 195 283 354]\n",
      "(40754, 373)\n",
      "(5785, 373)\n",
      "(6961, 373)\n"
     ]
    }
   ],
   "source": [
    "def preprocess_data(X):\n",
    "    const_mask = np.all(X==X[0,:],0)\n",
    "    const_idx = np.where(const_mask)[0]\n",
    "    X = X[:,np.logical_not(const_mask)]\n",
    "    idx = np.arange(X.shape[1])\n",
    "    X_uni, unique_idx = np.unique(X, axis=1,return_index=True)\n",
    "    X = X[:,np.sort(unique_idx)]\n",
    "    repeat_idx = np.setdiff1d(idx,unique_idx)\n",
    "    return X, const_idx, repeat_idx\n",
    "\n",
    "X_train, const_idx_train, repeat_idx_train = preprocess_data(X_train_raw)\n",
    "\n",
    "const_mask = np.ones(X_val_raw.shape[1],dtype=bool)\n",
    "const_mask[const_idx_train] = False\n",
    "X_val = X_val_raw[:,const_mask]\n",
    "X_test = X_test_raw[:,const_mask]\n",
    "\n",
    "repeat_mask = np.ones(X_val.shape[1],dtype=bool)\n",
    "repeat_mask[repeat_idx_train] = False\n",
    "X_val = X_val[:,repeat_mask]\n",
    "X_test = X_test[:,repeat_mask]\n",
    "\n",
    "print(const_idx_train)\n",
    "print(repeat_idx_train)\n",
    "print(X_train.shape)\n",
    "print(X_val.shape)\n",
    "print(X_test.shape)\n"
   ]
  },
  {
   "cell_type": "markdown",
   "metadata": {},
   "source": [
    "[ 59  69 179 189 351]\n",
    "\n",
    "[ 76  77 185 195 283 354]\n",
    "\n",
    "(40754, 373)\n",
    "\n",
    "(5785, 373)\n",
    "\n",
    "(6961, 373)\n"
   ]
  },
  {
   "cell_type": "markdown",
   "metadata": {},
   "source": [
    "# 2. Linear Regression Baseline\n",
    "\n",
    "## a."
   ]
  },
  {
   "cell_type": "code",
   "execution_count": 151,
   "metadata": {
    "scrolled": true
   },
   "outputs": [],
   "source": [
    "def fit_linreg(X, yy, alpha):\n",
    "    X_bias = np.concatenate([np.ones((X.shape[0],1)), X], axis=1)\n",
    "    reg = np.eye(X_bias.shape[1])*np.sqrt(alpha)\n",
    "    reg[0,0]=0\n",
    "    X_reg = np.concatenate([X_bias, reg], axis=0)\n",
    "    yy_reg = np.concatenate([yy, np.zeros((X_bias.shape[1]))])\n",
    "    ww_bias = np.linalg.lstsq(X_reg, yy_reg, rcond=None)[0]\n",
    "    return ww_bias[1:], ww_bias[0]\n",
    "\n",
    "def rtmsq_error(ww, bb, X, yy):\n",
    "    res = yy-(X.dot(ww)+bb)\n",
    "    return np.sqrt(res.dot(res)/X.shape[0])"
   ]
  },
  {
   "cell_type": "code",
   "execution_count": 152,
   "metadata": {
    "scrolled": true
   },
   "outputs": [
    {
     "name": "stdout",
     "output_type": "stream",
     "text": [
      "0.355758911251752 0.42059251169915385\n"
     ]
    }
   ],
   "source": [
    "alpha = 10\n",
    "ww_lstsq, bb_lstsq = fit_linreg(X_train, y_train, alpha)\n",
    "e_train_lstsq = rtmsq_error(ww_lstsq, bb_lstsq, X_train, y_train)\n",
    "e_val_lstsq = rtmsq_error(ww_lstsq, bb_lstsq, X_val, y_val)\n",
    "print(e_train_lstsq, e_val_lstsq)"
   ]
  },
  {
   "cell_type": "code",
   "execution_count": 8,
   "metadata": {},
   "outputs": [
    {
     "name": "stdout",
     "output_type": "stream",
     "text": [
      "1.08 s ± 84.4 ms per loop (mean ± std. dev. of 7 runs, 1 loop each)\n"
     ]
    }
   ],
   "source": [
    "%timeit result = fit_linreg(X_train, y_train, alpha)"
   ]
  },
  {
   "cell_type": "code",
   "execution_count": 153,
   "metadata": {},
   "outputs": [
    {
     "name": "stdout",
     "output_type": "stream",
     "text": [
      "0.35575973762757696 0.4206037540708194\n"
     ]
    }
   ],
   "source": [
    "alpha = 10\n",
    "ww_grad, bb_grad = fit_linreg_gradopt(X_train, y_train, alpha)\n",
    "e_train_grad = rtmsq_error(ww_grad, bb_grad, X_train, y_train)\n",
    "e_val_grad = rtmsq_error(ww_grad, bb_grad, X_val, y_val)\n",
    "print(e_train_grad, e_val_grad)"
   ]
  },
  {
   "cell_type": "code",
   "execution_count": 9,
   "metadata": {},
   "outputs": [
    {
     "name": "stdout",
     "output_type": "stream",
     "text": [
      "8.43 s ± 736 ms per loop (mean ± std. dev. of 7 runs, 1 loop each)\n"
     ]
    }
   ],
   "source": [
    "%timeit result = fit_linreg_gradopt(X_train, y_train, alpha)"
   ]
  },
  {
   "cell_type": "markdown",
   "metadata": {},
   "source": [
    "Results aren't the same.\n",
    "lstsq gets a lower error. Gradient-based optimisers learn slowly when it gets nearly to the minimum. It may never get to the real minimum. \n",
    "While the lstsq solves for the minimum analytically."
   ]
  },
  {
   "cell_type": "markdown",
   "metadata": {},
   "source": [
    "# 3. Decreasing and increasing the input dimensionality\n",
    "\n",
    "## a.\n",
    "### k=10"
   ]
  },
  {
   "cell_type": "code",
   "execution_count": 138,
   "metadata": {
    "scrolled": true
   },
   "outputs": [
    {
     "name": "stdout",
     "output_type": "stream",
     "text": [
      "0.572917984815683 0.5717489417505971\n"
     ]
    }
   ],
   "source": [
    "X_train_cen = X_train - np.mean(X_train,0)\n",
    "X_val_cen = X_val - np.mean(X_train,0)\n",
    "\n",
    "alpha = 10\n",
    "K = 10\n",
    "V = pca_zm_proj(X_train_cen, K=K)\n",
    "X_train_red = X_train_cen.dot(V).dot(V.T)+np.mean(X_train,0)\n",
    "X_val_red = X_val_cen.dot(V).dot(V.T)+np.mean(X_train,0)\n",
    "ww,bb = fit_linreg(X_train_red, y_train, alpha)\n",
    "\n",
    "e_train = rtmsq_error(ww, bb, X_train_red, y_train)\n",
    "e_val = rtmsq_error(ww, bb, X_val_red, y_val)\n",
    "print(e_train, e_val)"
   ]
  },
  {
   "cell_type": "markdown",
   "metadata": {},
   "source": [
    "### k=100"
   ]
  },
  {
   "cell_type": "code",
   "execution_count": 139,
   "metadata": {},
   "outputs": [
    {
     "name": "stdout",
     "output_type": "stream",
     "text": [
      "0.4106364907174908 0.43283039851396077\n"
     ]
    }
   ],
   "source": [
    "X_train_cen = X_train - np.mean(X_train,0)\n",
    "X_val_cen = X_val - np.mean(X_val,0)\n",
    "\n",
    "alpha = 10\n",
    "K = 100\n",
    "V = pca_zm_proj(X_train_cen, K=K)\n",
    "X_train_red = X_train_cen.dot(V).dot(V.T)+np.mean(X_train,0)\n",
    "X_val_red = X_val_cen.dot(V).dot(V.T)+np.mean(X_val,0)\n",
    "ww,bb = fit_linreg(X_train_red, y_train, alpha)\n",
    "\n",
    "e_train = rtmsq_error(ww, bb, X_train_red, y_train)\n",
    "e_val = rtmsq_error(ww, bb, X_val_red, y_val)\n",
    "print(e_train, e_val)"
   ]
  },
  {
   "cell_type": "markdown",
   "metadata": {},
   "source": [
    "training error goes up because reduced data generates more residual.\n",
    "\n",
    "We could search for the optimal K:"
   ]
  },
  {
   "cell_type": "code",
   "execution_count": 144,
   "metadata": {
    "scrolled": true
   },
   "outputs": [
    {
     "name": "stdout",
     "output_type": "stream",
     "text": [
      "K=10, err(train)=0.5729, err(valid)=0.5717\n",
      "K=20, err(train)=0.4740, err(valid)=0.5150\n",
      "K=30, err(train)=0.4484, err(valid)=0.4565\n",
      "K=40, err(train)=0.4375, err(valid)=0.4527\n",
      "K=50, err(train)=0.4306, err(valid)=0.4398\n",
      "K=60, err(train)=0.4271, err(valid)=0.4446\n",
      "K=70, err(train)=0.4232, err(valid)=0.4460\n",
      "K=80, err(train)=0.4191, err(valid)=0.4405\n",
      "K=90, err(train)=0.4167, err(valid)=0.4376\n",
      "K=100, err(train)=0.4106, err(valid)=0.4328\n",
      "K=110, err(train)=0.4053, err(valid)=0.4284\n",
      "K=120, err(train)=0.4016, err(valid)=0.4385\n",
      "K=130, err(train)=0.3973, err(valid)=0.4388\n",
      "K=140, err(train)=0.3951, err(valid)=0.4439\n",
      "K=150, err(train)=0.3935, err(valid)=0.4462\n",
      "K=160, err(train)=0.3894, err(valid)=0.4481\n",
      "K=170, err(train)=0.3850, err(valid)=0.4393\n",
      "K=180, err(train)=0.3839, err(valid)=0.4398\n",
      "K=190, err(train)=0.3825, err(valid)=0.4383\n",
      "K=200, err(train)=0.3806, err(valid)=0.4356\n",
      "K=210, err(train)=0.3797, err(valid)=0.4376\n",
      "K=220, err(train)=0.3782, err(valid)=0.4390\n",
      "K=230, err(train)=0.3768, err(valid)=0.4366\n",
      "K=240, err(train)=0.3746, err(valid)=0.4381\n",
      "K=250, err(train)=0.3722, err(valid)=0.4415\n",
      "K=260, err(train)=0.3696, err(valid)=0.4461\n",
      "K=270, err(train)=0.3682, err(valid)=0.4483\n",
      "K=280, err(train)=0.3661, err(valid)=0.4459\n",
      "K=290, err(train)=0.3654, err(valid)=0.4479\n",
      "K=300, err(train)=0.3639, err(valid)=0.4481\n",
      "K=310, err(train)=0.3627, err(valid)=0.4423\n",
      "K=320, err(train)=0.3613, err(valid)=0.4331\n",
      "K=330, err(train)=0.3587, err(valid)=0.4267\n",
      "K=340, err(train)=0.3567, err(valid)=0.4237\n",
      "K=350, err(train)=0.3562, err(valid)=0.4212\n",
      "K=360, err(train)=0.3559, err(valid)=0.4208\n",
      "K=370, err(train)=0.3558, err(valid)=0.4206\n"
     ]
    }
   ],
   "source": [
    "X_train_cen = X_train - np.mean(X_train,0)\n",
    "X_val_cen = X_val - np.mean(X_val,0)\n",
    "alpha = 10\n",
    "\n",
    "step = 10\n",
    "stats = []\n",
    "for K in range(step,X_train.shape[1],step):  \n",
    "    V = pca_zm_proj(X_train_cen, K=K)\n",
    "    X_train_red = X_train_cen.dot(V).dot(V.T)+np.mean(X_train,0)\n",
    "    X_val_red = X_val_cen.dot(V).dot(V.T)+np.mean(X_val,0)\n",
    "    ww,bb = fit_linreg(X_train_red, y_train, alpha)\n",
    "    \n",
    "    e_train = rtmsq_error(ww, bb, X_train_red, y_train)\n",
    "    e_val = rtmsq_error(ww, bb, X_val_red, y_val)\n",
    "    stats.append([K, e_train, e_val])\n",
    "    print(\"K={0}, err(train)={1:.4f}, err(valid)={2:.4f}\".format(K, e_train, e_val))"
   ]
  },
  {
   "cell_type": "code",
   "execution_count": 196,
   "metadata": {
    "scrolled": false
   },
   "outputs": [
    {
     "data": {
      "text/plain": [
       "[<matplotlib.lines.Line2D at 0x1358109438>]"
      ]
     },
     "execution_count": 196,
     "metadata": {},
     "output_type": "execute_result"
    },
    {
     "data": {
      "image/png": "[encoded data removed]",
      "text/plain": [
       "<Figure size 576x864 with 2 Axes>"
      ]
     },
     "metadata": {
      "needs_background": "light"
     },
     "output_type": "display_data"
    }
   ],
   "source": [
    "def pca_rank(X):\n",
    "    if np.max(np.abs(np.mean(X,0))) > 1e-9:\n",
    "        raise ValueError('Data is not zero mean.')\n",
    "    E, V = np.linalg.eig(np.dot(X.T, X))\n",
    "    return np.argsort(E)[::-1]\n",
    "\n",
    "\n",
    "fig, (ax1,ax2) = plt.subplots(2, 1, figsize=(8, 12))\n",
    "stats = np.array(stats)\n",
    "ax1.plot(stats[:,0],stats[:,1])\n",
    "ax1.plot(stats[:,0],stats[:,2])\n",
    "\n",
    "dim_rank = pca_rank(X_train-np.mean(X_train,0))\n",
    "ww_ranked = ww_lstsq[dim_rank]\n",
    "ax2.plot(np.arange(ww_ranked.shape[0]),np.abs(ww_ranked),'-')"
   ]
  },
  {
   "cell_type": "markdown",
   "metadata": {},
   "source": [
    "Actually the original features doesn't cause overfitting."
   ]
  },
  {
   "cell_type": "markdown",
   "metadata": {},
   "source": [
    "## b.\n",
    "\n",
    "inputs are either -0.25 or greater or equal to 0. with 80% of time being 0 and -0.25."
   ]
  },
  {
   "cell_type": "code",
   "execution_count": 205,
   "metadata": {},
   "outputs": [
    {
     "name": "stdout",
     "output_type": "stream",
     "text": [
      "0.8036237433757057 0.19637625662429425 1.0\n",
      "0.3178324826889212 0.3769885722393182\n"
     ]
    },
    {
     "data": {
      "image/png": "[encoded data removed]",
      "text/plain": [
       "<Figure size 432x288 with 1 Axes>"
      ]
     },
     "metadata": {
      "needs_background": "light"
     },
     "output_type": "display_data"
    }
   ],
   "source": [
    "plt.hist(X_train[:,45])\n",
    "\n",
    "bi_fraction = np.mean((X_train == -0.25)+(X_train == 0.0))\n",
    "rest_fraction = np.mean((X_train > 0.0))\n",
    "print(bi_fraction,rest_fraction,bi_fraction+rest_fraction)\n",
    "\n",
    "\n",
    "aug_fn = lambda X: np.concatenate([X, X==0, X<0], axis=1)\n",
    "alpha = 10\n",
    "ww, bb = fit_linreg(aug_fn(X_train), y_train, alpha)\n",
    "e_train = rtmsq_error(ww, bb, aug_fn(X_train), y_train)\n",
    "e_val = rtmsq_error(ww, bb, aug_fn(X_val), y_val)\n",
    "print(e_train, e_val)\n"
   ]
  },
  {
   "cell_type": "markdown",
   "metadata": {},
   "source": [
    "error goes down because we eliminate noise from variance of the \"greater than 0\" feature."
   ]
  },
  {
   "cell_type": "code",
   "execution_count": null,
   "metadata": {},
   "outputs": [],
   "source": [
    "K = 10 # number of thresholded classification problems to fit\n",
    "mx = np.max(y_train); mn = np.min(y_train); hh = (mx-mn)/(K+1)\n",
    "thresholds = np.linspace(mn+hh, mx-hh, num=K, endpoint=True)\n",
    "for kk in range(K):\n",
    "      labels = y_train > thresholds[kk]"
   ]
  },
  {
   "cell_type": "code",
   "execution_count": null,
   "metadata": {},
   "outputs": [],
   "source": []
  }
 ],
 "metadata": {
  "kernelspec": {
   "display_name": "Python 3",
   "language": "python",
   "name": "python3"
  },
  "language_info": {
   "codemirror_mode": {
    "name": "ipython",
    "version": 3
   },
   "file_extension": ".py",
   "mimetype": "text/x-python",
   "name": "python",
   "nbconvert_exporter": "python",
   "pygments_lexer": "ipython3",
   "version": "3.6.7"
  }
 },
 "nbformat": 4,
 "nbformat_minor": 2
}
